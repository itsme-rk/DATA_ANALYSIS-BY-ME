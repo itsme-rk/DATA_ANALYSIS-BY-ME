{
 "cells": [
  {
   "cell_type": "code",
   "execution_count": 1,
   "id": "32d37f69",
   "metadata": {},
   "outputs": [],
   "source": [
    "import pandas as pd \n",
    "import numpy as np \n",
    "from matplotlib import pyplot as plt\n",
    "import seaborn as sns"
   ]
  },
  {
   "cell_type": "code",
   "execution_count": 2,
   "id": "36b16118",
   "metadata": {},
   "outputs": [],
   "source": [
    "data = pd.read_csv(r\"C:\\Users\\karth\\OneDrive\\my projects\\data science\\Social_Network_Ads.csv\")"
   ]
  },
  {
   "cell_type": "code",
   "execution_count": 3,
   "id": "5130527c",
   "metadata": {},
   "outputs": [
    {
     "data": {
      "text/html": [
       "<div>\n",
       "<style scoped>\n",
       "    .dataframe tbody tr th:only-of-type {\n",
       "        vertical-align: middle;\n",
       "    }\n",
       "\n",
       "    .dataframe tbody tr th {\n",
       "        vertical-align: top;\n",
       "    }\n",
       "\n",
       "    .dataframe thead th {\n",
       "        text-align: right;\n",
       "    }\n",
       "</style>\n",
       "<table border=\"1\" class=\"dataframe\">\n",
       "  <thead>\n",
       "    <tr style=\"text-align: right;\">\n",
       "      <th></th>\n",
       "      <th>User ID</th>\n",
       "      <th>Gender</th>\n",
       "      <th>Age</th>\n",
       "      <th>EstimatedSalary</th>\n",
       "      <th>Purchased</th>\n",
       "    </tr>\n",
       "  </thead>\n",
       "  <tbody>\n",
       "    <tr>\n",
       "      <th>0</th>\n",
       "      <td>15624510</td>\n",
       "      <td>Male</td>\n",
       "      <td>19</td>\n",
       "      <td>19000</td>\n",
       "      <td>0</td>\n",
       "    </tr>\n",
       "    <tr>\n",
       "      <th>1</th>\n",
       "      <td>15810944</td>\n",
       "      <td>Male</td>\n",
       "      <td>35</td>\n",
       "      <td>20000</td>\n",
       "      <td>0</td>\n",
       "    </tr>\n",
       "    <tr>\n",
       "      <th>2</th>\n",
       "      <td>15668575</td>\n",
       "      <td>Female</td>\n",
       "      <td>26</td>\n",
       "      <td>43000</td>\n",
       "      <td>0</td>\n",
       "    </tr>\n",
       "    <tr>\n",
       "      <th>3</th>\n",
       "      <td>15603246</td>\n",
       "      <td>Female</td>\n",
       "      <td>27</td>\n",
       "      <td>57000</td>\n",
       "      <td>0</td>\n",
       "    </tr>\n",
       "    <tr>\n",
       "      <th>4</th>\n",
       "      <td>15804002</td>\n",
       "      <td>Male</td>\n",
       "      <td>19</td>\n",
       "      <td>76000</td>\n",
       "      <td>0</td>\n",
       "    </tr>\n",
       "    <tr>\n",
       "      <th>...</th>\n",
       "      <td>...</td>\n",
       "      <td>...</td>\n",
       "      <td>...</td>\n",
       "      <td>...</td>\n",
       "      <td>...</td>\n",
       "    </tr>\n",
       "    <tr>\n",
       "      <th>395</th>\n",
       "      <td>15691863</td>\n",
       "      <td>Female</td>\n",
       "      <td>46</td>\n",
       "      <td>41000</td>\n",
       "      <td>1</td>\n",
       "    </tr>\n",
       "    <tr>\n",
       "      <th>396</th>\n",
       "      <td>15706071</td>\n",
       "      <td>Male</td>\n",
       "      <td>51</td>\n",
       "      <td>23000</td>\n",
       "      <td>1</td>\n",
       "    </tr>\n",
       "    <tr>\n",
       "      <th>397</th>\n",
       "      <td>15654296</td>\n",
       "      <td>Female</td>\n",
       "      <td>50</td>\n",
       "      <td>20000</td>\n",
       "      <td>1</td>\n",
       "    </tr>\n",
       "    <tr>\n",
       "      <th>398</th>\n",
       "      <td>15755018</td>\n",
       "      <td>Male</td>\n",
       "      <td>36</td>\n",
       "      <td>33000</td>\n",
       "      <td>0</td>\n",
       "    </tr>\n",
       "    <tr>\n",
       "      <th>399</th>\n",
       "      <td>15594041</td>\n",
       "      <td>Female</td>\n",
       "      <td>49</td>\n",
       "      <td>36000</td>\n",
       "      <td>1</td>\n",
       "    </tr>\n",
       "  </tbody>\n",
       "</table>\n",
       "<p>400 rows × 5 columns</p>\n",
       "</div>"
      ],
      "text/plain": [
       "      User ID  Gender  Age  EstimatedSalary  Purchased\n",
       "0    15624510    Male   19            19000          0\n",
       "1    15810944    Male   35            20000          0\n",
       "2    15668575  Female   26            43000          0\n",
       "3    15603246  Female   27            57000          0\n",
       "4    15804002    Male   19            76000          0\n",
       "..        ...     ...  ...              ...        ...\n",
       "395  15691863  Female   46            41000          1\n",
       "396  15706071    Male   51            23000          1\n",
       "397  15654296  Female   50            20000          1\n",
       "398  15755018    Male   36            33000          0\n",
       "399  15594041  Female   49            36000          1\n",
       "\n",
       "[400 rows x 5 columns]"
      ]
     },
     "execution_count": 3,
     "metadata": {},
     "output_type": "execute_result"
    }
   ],
   "source": [
    "data"
   ]
  },
  {
   "cell_type": "markdown",
   "id": "0f038806",
   "metadata": {},
   "source": [
    "##### this is a unknown data set which i don't know what it tellss but from the attributes present in this i can conclude that there are customer id and age and their salary are given by which we have to predict that they have or can purchase the product or anything"
   ]
  },
  {
   "cell_type": "code",
   "execution_count": 4,
   "id": "e4451646",
   "metadata": {},
   "outputs": [
    {
     "data": {
      "text/html": [
       "<div>\n",
       "<style scoped>\n",
       "    .dataframe tbody tr th:only-of-type {\n",
       "        vertical-align: middle;\n",
       "    }\n",
       "\n",
       "    .dataframe tbody tr th {\n",
       "        vertical-align: top;\n",
       "    }\n",
       "\n",
       "    .dataframe thead th {\n",
       "        text-align: right;\n",
       "    }\n",
       "</style>\n",
       "<table border=\"1\" class=\"dataframe\">\n",
       "  <thead>\n",
       "    <tr style=\"text-align: right;\">\n",
       "      <th></th>\n",
       "      <th>User ID</th>\n",
       "      <th>Age</th>\n",
       "      <th>EstimatedSalary</th>\n",
       "      <th>Purchased</th>\n",
       "    </tr>\n",
       "  </thead>\n",
       "  <tbody>\n",
       "    <tr>\n",
       "      <th>count</th>\n",
       "      <td>4.000000e+02</td>\n",
       "      <td>400.000000</td>\n",
       "      <td>400.000000</td>\n",
       "      <td>400.000000</td>\n",
       "    </tr>\n",
       "    <tr>\n",
       "      <th>mean</th>\n",
       "      <td>1.569154e+07</td>\n",
       "      <td>37.655000</td>\n",
       "      <td>69742.500000</td>\n",
       "      <td>0.357500</td>\n",
       "    </tr>\n",
       "    <tr>\n",
       "      <th>std</th>\n",
       "      <td>7.165832e+04</td>\n",
       "      <td>10.482877</td>\n",
       "      <td>34096.960282</td>\n",
       "      <td>0.479864</td>\n",
       "    </tr>\n",
       "    <tr>\n",
       "      <th>min</th>\n",
       "      <td>1.556669e+07</td>\n",
       "      <td>18.000000</td>\n",
       "      <td>15000.000000</td>\n",
       "      <td>0.000000</td>\n",
       "    </tr>\n",
       "    <tr>\n",
       "      <th>25%</th>\n",
       "      <td>1.562676e+07</td>\n",
       "      <td>29.750000</td>\n",
       "      <td>43000.000000</td>\n",
       "      <td>0.000000</td>\n",
       "    </tr>\n",
       "    <tr>\n",
       "      <th>50%</th>\n",
       "      <td>1.569434e+07</td>\n",
       "      <td>37.000000</td>\n",
       "      <td>70000.000000</td>\n",
       "      <td>0.000000</td>\n",
       "    </tr>\n",
       "    <tr>\n",
       "      <th>75%</th>\n",
       "      <td>1.575036e+07</td>\n",
       "      <td>46.000000</td>\n",
       "      <td>88000.000000</td>\n",
       "      <td>1.000000</td>\n",
       "    </tr>\n",
       "    <tr>\n",
       "      <th>max</th>\n",
       "      <td>1.581524e+07</td>\n",
       "      <td>60.000000</td>\n",
       "      <td>150000.000000</td>\n",
       "      <td>1.000000</td>\n",
       "    </tr>\n",
       "  </tbody>\n",
       "</table>\n",
       "</div>"
      ],
      "text/plain": [
       "            User ID         Age  EstimatedSalary   Purchased\n",
       "count  4.000000e+02  400.000000       400.000000  400.000000\n",
       "mean   1.569154e+07   37.655000     69742.500000    0.357500\n",
       "std    7.165832e+04   10.482877     34096.960282    0.479864\n",
       "min    1.556669e+07   18.000000     15000.000000    0.000000\n",
       "25%    1.562676e+07   29.750000     43000.000000    0.000000\n",
       "50%    1.569434e+07   37.000000     70000.000000    0.000000\n",
       "75%    1.575036e+07   46.000000     88000.000000    1.000000\n",
       "max    1.581524e+07   60.000000    150000.000000    1.000000"
      ]
     },
     "execution_count": 4,
     "metadata": {},
     "output_type": "execute_result"
    }
   ],
   "source": [
    "data.describe()"
   ]
  },
  {
   "cell_type": "code",
   "execution_count": 5,
   "id": "e290b876",
   "metadata": {},
   "outputs": [
    {
     "data": {
      "text/html": [
       "<div>\n",
       "<style scoped>\n",
       "    .dataframe tbody tr th:only-of-type {\n",
       "        vertical-align: middle;\n",
       "    }\n",
       "\n",
       "    .dataframe tbody tr th {\n",
       "        vertical-align: top;\n",
       "    }\n",
       "\n",
       "    .dataframe thead th {\n",
       "        text-align: right;\n",
       "    }\n",
       "</style>\n",
       "<table border=\"1\" class=\"dataframe\">\n",
       "  <thead>\n",
       "    <tr style=\"text-align: right;\">\n",
       "      <th></th>\n",
       "      <th>User ID</th>\n",
       "      <th>Gender</th>\n",
       "      <th>Age</th>\n",
       "      <th>EstimatedSalary</th>\n",
       "      <th>Purchased</th>\n",
       "    </tr>\n",
       "  </thead>\n",
       "  <tbody>\n",
       "    <tr>\n",
       "      <th>0</th>\n",
       "      <td>15624510</td>\n",
       "      <td>Male</td>\n",
       "      <td>19</td>\n",
       "      <td>19000</td>\n",
       "      <td>0</td>\n",
       "    </tr>\n",
       "    <tr>\n",
       "      <th>1</th>\n",
       "      <td>15810944</td>\n",
       "      <td>Male</td>\n",
       "      <td>35</td>\n",
       "      <td>20000</td>\n",
       "      <td>0</td>\n",
       "    </tr>\n",
       "    <tr>\n",
       "      <th>2</th>\n",
       "      <td>15668575</td>\n",
       "      <td>Female</td>\n",
       "      <td>26</td>\n",
       "      <td>43000</td>\n",
       "      <td>0</td>\n",
       "    </tr>\n",
       "    <tr>\n",
       "      <th>3</th>\n",
       "      <td>15603246</td>\n",
       "      <td>Female</td>\n",
       "      <td>27</td>\n",
       "      <td>57000</td>\n",
       "      <td>0</td>\n",
       "    </tr>\n",
       "    <tr>\n",
       "      <th>4</th>\n",
       "      <td>15804002</td>\n",
       "      <td>Male</td>\n",
       "      <td>19</td>\n",
       "      <td>76000</td>\n",
       "      <td>0</td>\n",
       "    </tr>\n",
       "  </tbody>\n",
       "</table>\n",
       "</div>"
      ],
      "text/plain": [
       "    User ID  Gender  Age  EstimatedSalary  Purchased\n",
       "0  15624510    Male   19            19000          0\n",
       "1  15810944    Male   35            20000          0\n",
       "2  15668575  Female   26            43000          0\n",
       "3  15603246  Female   27            57000          0\n",
       "4  15804002    Male   19            76000          0"
      ]
     },
     "execution_count": 5,
     "metadata": {},
     "output_type": "execute_result"
    }
   ],
   "source": [
    "data.head()"
   ]
  },
  {
   "cell_type": "code",
   "execution_count": 6,
   "id": "d308a884",
   "metadata": {},
   "outputs": [
    {
     "data": {
      "text/html": [
       "<div>\n",
       "<style scoped>\n",
       "    .dataframe tbody tr th:only-of-type {\n",
       "        vertical-align: middle;\n",
       "    }\n",
       "\n",
       "    .dataframe tbody tr th {\n",
       "        vertical-align: top;\n",
       "    }\n",
       "\n",
       "    .dataframe thead th {\n",
       "        text-align: right;\n",
       "    }\n",
       "</style>\n",
       "<table border=\"1\" class=\"dataframe\">\n",
       "  <thead>\n",
       "    <tr style=\"text-align: right;\">\n",
       "      <th></th>\n",
       "      <th>User ID</th>\n",
       "      <th>Gender</th>\n",
       "      <th>Age</th>\n",
       "      <th>EstimatedSalary</th>\n",
       "      <th>Purchased</th>\n",
       "    </tr>\n",
       "  </thead>\n",
       "  <tbody>\n",
       "    <tr>\n",
       "      <th>395</th>\n",
       "      <td>15691863</td>\n",
       "      <td>Female</td>\n",
       "      <td>46</td>\n",
       "      <td>41000</td>\n",
       "      <td>1</td>\n",
       "    </tr>\n",
       "    <tr>\n",
       "      <th>396</th>\n",
       "      <td>15706071</td>\n",
       "      <td>Male</td>\n",
       "      <td>51</td>\n",
       "      <td>23000</td>\n",
       "      <td>1</td>\n",
       "    </tr>\n",
       "    <tr>\n",
       "      <th>397</th>\n",
       "      <td>15654296</td>\n",
       "      <td>Female</td>\n",
       "      <td>50</td>\n",
       "      <td>20000</td>\n",
       "      <td>1</td>\n",
       "    </tr>\n",
       "    <tr>\n",
       "      <th>398</th>\n",
       "      <td>15755018</td>\n",
       "      <td>Male</td>\n",
       "      <td>36</td>\n",
       "      <td>33000</td>\n",
       "      <td>0</td>\n",
       "    </tr>\n",
       "    <tr>\n",
       "      <th>399</th>\n",
       "      <td>15594041</td>\n",
       "      <td>Female</td>\n",
       "      <td>49</td>\n",
       "      <td>36000</td>\n",
       "      <td>1</td>\n",
       "    </tr>\n",
       "  </tbody>\n",
       "</table>\n",
       "</div>"
      ],
      "text/plain": [
       "      User ID  Gender  Age  EstimatedSalary  Purchased\n",
       "395  15691863  Female   46            41000          1\n",
       "396  15706071    Male   51            23000          1\n",
       "397  15654296  Female   50            20000          1\n",
       "398  15755018    Male   36            33000          0\n",
       "399  15594041  Female   49            36000          1"
      ]
     },
     "execution_count": 6,
     "metadata": {},
     "output_type": "execute_result"
    }
   ],
   "source": [
    "data.tail()"
   ]
  },
  {
   "cell_type": "code",
   "execution_count": 7,
   "id": "7fdd98ca",
   "metadata": {},
   "outputs": [
    {
     "data": {
      "text/plain": [
       "User ID            0\n",
       "Gender             0\n",
       "Age                0\n",
       "EstimatedSalary    0\n",
       "Purchased          0\n",
       "dtype: int64"
      ]
     },
     "execution_count": 7,
     "metadata": {},
     "output_type": "execute_result"
    }
   ],
   "source": [
    "data.isnull().sum()"
   ]
  },
  {
   "cell_type": "code",
   "execution_count": 8,
   "id": "ebab6a2c",
   "metadata": {},
   "outputs": [
    {
     "data": {
      "text/plain": [
       "(400, 5)"
      ]
     },
     "execution_count": 8,
     "metadata": {},
     "output_type": "execute_result"
    }
   ],
   "source": [
    "data.shape"
   ]
  },
  {
   "cell_type": "code",
   "execution_count": 9,
   "id": "0ddb622b",
   "metadata": {},
   "outputs": [
    {
     "name": "stdout",
     "output_type": "stream",
     "text": [
      "<class 'pandas.core.frame.DataFrame'>\n",
      "RangeIndex: 400 entries, 0 to 399\n",
      "Data columns (total 5 columns):\n",
      " #   Column           Non-Null Count  Dtype \n",
      "---  ------           --------------  ----- \n",
      " 0   User ID          400 non-null    int64 \n",
      " 1   Gender           400 non-null    object\n",
      " 2   Age              400 non-null    int64 \n",
      " 3   EstimatedSalary  400 non-null    int64 \n",
      " 4   Purchased        400 non-null    int64 \n",
      "dtypes: int64(4), object(1)\n",
      "memory usage: 15.8+ KB\n"
     ]
    }
   ],
   "source": [
    "data.info()"
   ]
  },
  {
   "cell_type": "code",
   "execution_count": 10,
   "id": "217ff6ab",
   "metadata": {},
   "outputs": [
    {
     "data": {
      "text/plain": [
       "0"
      ]
     },
     "execution_count": 10,
     "metadata": {},
     "output_type": "execute_result"
    }
   ],
   "source": [
    "data.duplicated().sum()"
   ]
  },
  {
   "cell_type": "code",
   "execution_count": 11,
   "id": "32b9f4ff",
   "metadata": {},
   "outputs": [
    {
     "data": {
      "image/png": "[encoded data removed]",
      "text/plain": [
       "<Figure size 640x480 with 1 Axes>"
      ]
     },
     "metadata": {},
     "output_type": "display_data"
    }
   ],
   "source": [
    "ax = sns.countplot(data[\"Gender\"])\n",
    "\n",
    "for bars in ax.containers:\n",
    "    ax.bar_label(bars)"
   ]
  },
  {
   "cell_type": "markdown",
   "id": "e9efe897",
   "metadata": {},
   "source": [
    "#### univariate analysis"
   ]
  },
  {
   "cell_type": "code",
   "execution_count": 12,
   "id": "75f3c9d3",
   "metadata": {},
   "outputs": [
    {
     "data": {
      "image/png": "[encoded data removed]",
      "text/plain": [
       "<Figure size 640x480 with 1 Axes>"
      ]
     },
     "metadata": {},
     "output_type": "display_data"
    }
   ],
   "source": [
    "sns.histplot(data['Age'], bins=20, kde=True)\n",
    "plt.title('Distribution of Age')\n",
    "plt.xlabel('Age')\n",
    "plt.ylabel('Count')\n",
    "plt.show()\n"
   ]
  },
  {
   "cell_type": "code",
   "execution_count": 13,
   "id": "55b628f5",
   "metadata": {},
   "outputs": [
    {
     "data": {
      "image/png": "[encoded data removed]",
      "text/plain": [
       "<Figure size 640x480 with 1 Axes>"
      ]
     },
     "metadata": {},
     "output_type": "display_data"
    }
   ],
   "source": [
    "sns.histplot(data['EstimatedSalary'], bins=20, kde=True)\n",
    "plt.title('Distribution of EstimatedSalary')\n",
    "plt.xlabel('EstimatedSalary')\n",
    "plt.ylabel('Count')\n",
    "plt.show()"
   ]
  },
  {
   "cell_type": "markdown",
   "id": "9147b4f3",
   "metadata": {},
   "source": [
    "#### Bivariate Analysis:"
   ]
  },
  {
   "cell_type": "code",
   "execution_count": 14,
   "id": "fdfd76ba",
   "metadata": {},
   "outputs": [
    {
     "data": {
      "image/png": "[encoded data removed]",
      "text/plain": [
       "<Figure size 640x480 with 1 Axes>"
      ]
     },
     "metadata": {},
     "output_type": "display_data"
    }
   ],
   "source": [
    "sns.boxplot(x='Purchased', y='Age', data=data)\n",
    "plt.title('Relationship between Age and Purchased')\n",
    "plt.show()"
   ]
  },
  {
   "cell_type": "markdown",
   "id": "0b333000",
   "metadata": {},
   "source": [
    "\n",
    "#### Multivariate Analysis:"
   ]
  },
  {
   "cell_type": "markdown",
   "id": "bbe12aa0",
   "metadata": {},
   "source": [
    "##### encoding is required for male clm ,doing this we'll encode and see this "
   ]
  },
  {
   "cell_type": "code",
   "execution_count": 15,
   "id": "a4bf9b9d",
   "metadata": {},
   "outputs": [
    {
     "data": {
      "application/vnd.jupyter.widget-view+json": {
       "model_id": "c0f382db7b2145ab876a0805dc8ab1e9",
       "version_major": 2,
       "version_minor": 0
      },
      "text/plain": [
       "interactive(children=(FloatSlider(value=2.5, description='height', max=3.5, min=1.0, step=0.5), FloatSlider(va…"
      ]
     },
     "execution_count": 15,
     "metadata": {},
     "output_type": "execute_result"
    }
   ],
   "source": [
    "from ipywidgets import interactive\n",
    "\n",
    "def size_widget(height=2.5, aspect=1):\n",
    "    sns.pairplot(data, height=height, aspect=aspect)\n",
    "    \n",
    "interactive(size_widget, height=(1, 3.5, 0.5), aspect=(0.5, 2, 0.25))"
   ]
  },
  {
   "cell_type": "code",
   "execution_count": 16,
   "id": "c27271e0",
   "metadata": {},
   "outputs": [
    {
     "data": {
      "image/png": "[encoded data removed]",
      "text/plain": [
       "<Figure size 640x480 with 2 Axes>"
      ]
     },
     "metadata": {},
     "output_type": "display_data"
    }
   ],
   "source": [
    "# One-hot encode the 'Gender' column\n",
    "data_encoded = pd.get_dummies(data, columns=['Gender'], drop_first=True)\n",
    "\n",
    "# Calculate correlation matrix\n",
    "correlation_matrix = data_encoded.corr()\n",
    "\n",
    "# Plotting heatmap \n",
    "sns.heatmap(correlation_matrix, annot=True, cmap='coolwarm')\n",
    "plt.title('Correlation Matrix')\n",
    "plt.show()\n"
   ]
  },
  {
   "cell_type": "markdown",
   "id": "72578fbf",
   "metadata": {},
   "source": [
    "#### spliting of data into test data and the train data to perform the scaling or encoding we'll ignore the gender column for now"
   ]
  },
  {
   "cell_type": "code",
   "execution_count": 17,
   "id": "b9969c04",
   "metadata": {},
   "outputs": [],
   "source": [
    "from sklearn.model_selection import train_test_split\n",
    "\n",
    "x_train,x_test,y_train,y_test = train_test_split(data.drop(['Purchased','Gender'],axis=1),data['Purchased'],test_size=0.3,random_state=0)\n"
   ]
  },
  {
   "cell_type": "code",
   "execution_count": 18,
   "id": "f482edce",
   "metadata": {},
   "outputs": [
    {
     "data": {
      "text/plain": [
       "((280, 3), (120, 3))"
      ]
     },
     "execution_count": 18,
     "metadata": {},
     "output_type": "execute_result"
    }
   ],
   "source": [
    "x_train.shape,x_test.shape"
   ]
  },
  {
   "cell_type": "markdown",
   "id": "9f93bbe2",
   "metadata": {},
   "source": [
    "# standard scalar"
   ]
  },
  {
   "cell_type": "code",
   "execution_count": 30,
   "id": "1d5b38b2",
   "metadata": {},
   "outputs": [],
   "source": [
    "from sklearn.preprocessing import StandardScaler\n",
    "\n",
    "scaler = StandardScaler() \n",
    "scaler.fit(x_train)\n",
    "\n",
    "x_train_tranformed = scaler.transform(x_train)\n",
    "x_test_transformed = scaler.transform(x_test)\n",
    "\n",
    "\n"
   ]
  },
  {
   "cell_type": "code",
   "execution_count": 24,
   "id": "c1db4623",
   "metadata": {},
   "outputs": [],
   "source": []
  },
  {
   "cell_type": "code",
   "execution_count": 31,
   "id": "717bb85c",
   "metadata": {},
   "outputs": [
    {
     "data": {
      "text/plain": [
       "array([1.56917817e+07, 3.78642857e+01, 6.98071429e+04])"
      ]
     },
     "execution_count": 31,
     "metadata": {},
     "output_type": "execute_result"
    }
   ],
   "source": [
    "scaler.mean_"
   ]
  },
  {
   "cell_type": "code",
   "execution_count": 32,
   "id": "43d3966d",
   "metadata": {},
   "outputs": [
    {
     "data": {
      "text/html": [
       "<div>\n",
       "<style scoped>\n",
       "    .dataframe tbody tr th:only-of-type {\n",
       "        vertical-align: middle;\n",
       "    }\n",
       "\n",
       "    .dataframe tbody tr th {\n",
       "        vertical-align: top;\n",
       "    }\n",
       "\n",
       "    .dataframe thead th {\n",
       "        text-align: right;\n",
       "    }\n",
       "</style>\n",
       "<table border=\"1\" class=\"dataframe\">\n",
       "  <thead>\n",
       "    <tr style=\"text-align: right;\">\n",
       "      <th></th>\n",
       "      <th>User ID</th>\n",
       "      <th>Age</th>\n",
       "      <th>EstimatedSalary</th>\n",
       "    </tr>\n",
       "  </thead>\n",
       "  <tbody>\n",
       "    <tr>\n",
       "      <th>92</th>\n",
       "      <td>15809823</td>\n",
       "      <td>26</td>\n",
       "      <td>15000</td>\n",
       "    </tr>\n",
       "    <tr>\n",
       "      <th>223</th>\n",
       "      <td>15593715</td>\n",
       "      <td>60</td>\n",
       "      <td>102000</td>\n",
       "    </tr>\n",
       "    <tr>\n",
       "      <th>234</th>\n",
       "      <td>15619407</td>\n",
       "      <td>38</td>\n",
       "      <td>112000</td>\n",
       "    </tr>\n",
       "    <tr>\n",
       "      <th>232</th>\n",
       "      <td>15813113</td>\n",
       "      <td>40</td>\n",
       "      <td>107000</td>\n",
       "    </tr>\n",
       "    <tr>\n",
       "      <th>377</th>\n",
       "      <td>15800215</td>\n",
       "      <td>42</td>\n",
       "      <td>53000</td>\n",
       "    </tr>\n",
       "    <tr>\n",
       "      <th>...</th>\n",
       "      <td>...</td>\n",
       "      <td>...</td>\n",
       "      <td>...</td>\n",
       "    </tr>\n",
       "    <tr>\n",
       "      <th>323</th>\n",
       "      <td>15619465</td>\n",
       "      <td>48</td>\n",
       "      <td>30000</td>\n",
       "    </tr>\n",
       "    <tr>\n",
       "      <th>192</th>\n",
       "      <td>15779581</td>\n",
       "      <td>29</td>\n",
       "      <td>43000</td>\n",
       "    </tr>\n",
       "    <tr>\n",
       "      <th>117</th>\n",
       "      <td>15591433</td>\n",
       "      <td>36</td>\n",
       "      <td>52000</td>\n",
       "    </tr>\n",
       "    <tr>\n",
       "      <th>47</th>\n",
       "      <td>15776348</td>\n",
       "      <td>27</td>\n",
       "      <td>54000</td>\n",
       "    </tr>\n",
       "    <tr>\n",
       "      <th>172</th>\n",
       "      <td>15794661</td>\n",
       "      <td>26</td>\n",
       "      <td>118000</td>\n",
       "    </tr>\n",
       "  </tbody>\n",
       "</table>\n",
       "<p>280 rows × 3 columns</p>\n",
       "</div>"
      ],
      "text/plain": [
       "      User ID  Age  EstimatedSalary\n",
       "92   15809823   26            15000\n",
       "223  15593715   60           102000\n",
       "234  15619407   38           112000\n",
       "232  15813113   40           107000\n",
       "377  15800215   42            53000\n",
       "..        ...  ...              ...\n",
       "323  15619465   48            30000\n",
       "192  15779581   29            43000\n",
       "117  15591433   36            52000\n",
       "47   15776348   27            54000\n",
       "172  15794661   26           118000\n",
       "\n",
       "[280 rows x 3 columns]"
      ]
     },
     "execution_count": 32,
     "metadata": {},
     "output_type": "execute_result"
    }
   ],
   "source": [
    "x_train"
   ]
  },
  {
   "cell_type": "code",
   "execution_count": 33,
   "id": "a65c8012",
   "metadata": {},
   "outputs": [
    {
     "data": {
      "text/plain": [
       "array([[ 1.67118864e+00, -1.16317240e+00, -1.58497030e+00],\n",
       "       [-1.38839503e+00,  2.17018137e+00,  9.30986724e-01],\n",
       "       [-1.02465642e+00,  1.33054037e-02,  1.22017719e+00],\n",
       "       [ 1.71776734e+00,  2.09385037e-01,  1.07558195e+00],\n",
       "       [ 1.53516184e+00,  4.05464670e-01, -4.86046541e-01],\n",
       "       [-1.05683679e+00, -2.80814046e-01, -3.12532264e-01],\n",
       "       [ 3.23874887e-01,  9.93703570e-01, -8.33075096e-01],\n",
       "       [ 1.46554862e+00,  9.93703570e-01,  1.85639620e+00],\n",
       "       [ 1.53940914e+00,  1.33054037e-02,  1.24909623e+00],\n",
       "       [ 1.38792217e+00, -8.69052946e-01,  2.26126285e+00],\n",
       "       [-1.71742331e-01, -1.16317240e+00, -1.58497030e+00],\n",
       "       [-7.91253235e-01,  2.17018137e+00, -8.04156050e-01],\n",
       "       [-1.70199146e-01, -1.35925203e+00, -1.46929411e+00],\n",
       "       [ 1.38112224e-01,  4.05464670e-01,  2.29018190e+00],\n",
       "       [-3.55452132e-01,  7.97623937e-01,  7.57472446e-01],\n",
       "       [-1.39831955e+00, -9.67092763e-01, -3.12532264e-01],\n",
       "       [-9.79663379e-01,  1.11345220e-01,  7.57472446e-01],\n",
       "       [-2.87499610e-02, -9.67092763e-01,  5.55039123e-01],\n",
       "       [ 3.06956482e-01,  3.07424854e-01,  6.34153371e-02],\n",
       "       [-1.05190992e+00,  6.99584120e-01, -1.26686079e+00],\n",
       "       [ 8.20054163e-02, -4.76893680e-01, -2.33418016e-02],\n",
       "       [ 4.61827129e-01, -1.75141130e+00,  3.52605799e-01],\n",
       "       [-1.56560647e+00, -6.72973313e-01,  1.21253430e-01],\n",
       "       [ 6.70765882e-01,  4.05464670e-01,  2.94767707e-01],\n",
       "       [ 1.07455651e+00, -2.80814046e-01,  6.34153371e-02],\n",
       "       [-2.24153990e-01, -4.76893680e-01,  2.29018190e+00],\n",
       "       [-1.66856098e+00,  2.09385037e-01,  3.44962908e-02],\n",
       "       [ 4.28684046e-01,  1.28782302e+00,  2.20342476e+00],\n",
       "       [-6.44947972e-01,  7.97623937e-01,  2.65848661e-01],\n",
       "       [-1.76754143e-01, -2.80814046e-01,  1.50172476e-01],\n",
       "       [ 2.09859000e-02,  1.33054037e-02, -5.43884634e-01],\n",
       "       [ 1.69653085e+00, -1.82774230e-01,  1.50172476e-01],\n",
       "       [ 3.13313272e-01, -8.47344130e-02,  2.36929614e-01],\n",
       "       [-1.02117364e+00,  1.33054037e-02, -2.54694171e-01],\n",
       "       [ 1.24229647e+00,  2.17018137e+00,  1.10450100e+00],\n",
       "       [-3.29557771e-01, -1.75141130e+00,  3.52605799e-01],\n",
       "       [ 5.05220359e-01,  1.87606192e+00,  1.21253430e-01],\n",
       "       [-1.14649725e+00,  4.05464670e-01, -1.39017986e-01],\n",
       "       [ 7.54621704e-01, -1.16317240e+00,  2.94767707e-01],\n",
       "       [ 7.82370719e-01,  7.97623937e-01,  1.36477242e+00],\n",
       "       [-8.84244995e-02, -2.80814046e-01, -2.54694171e-01],\n",
       "       [-7.47789217e-01, -1.65337148e+00, -5.22608478e-02],\n",
       "       [ 1.20271166e+00, -9.67092763e-01, -7.46317957e-01],\n",
       "       [-1.61362925e+00,  3.07424854e-01,  4.97201030e-01],\n",
       "       [-1.30602577e+00, -8.47344130e-02, -1.06442747e+00],\n",
       "       [ 4.68283023e-01, -1.06513258e+00,  5.83958169e-01],\n",
       "       [ 3.78193582e-02,  1.11345220e-01, -8.04156050e-01],\n",
       "       [-1.54728646e+00, -9.67092763e-01,  1.53828669e+00],\n",
       "       [-3.94187491e-01, -6.72973313e-01,  1.39369146e+00],\n",
       "       [-2.57141339e-01, -1.26121221e+00,  4.97201030e-01],\n",
       "       [-1.08949851e+00, -2.80814046e-01,  3.44962908e-02],\n",
       "       [ 8.30563395e-01, -8.47344130e-02,  5.57724463e-03],\n",
       "       [-8.95595192e-01, -2.80814046e-01, -8.90913188e-01],\n",
       "       [-1.40460556e+00,  8.95663754e-01, -1.35361793e+00],\n",
       "       [ 1.45075387e+00, -2.80814046e-01,  2.23234380e+00],\n",
       "       [ 9.93418962e-01,  9.93703570e-01,  1.97207239e+00],\n",
       "       [ 4.12855782e-01, -1.16317240e+00,  4.68281984e-01],\n",
       "       [ 1.51583663e+00, -1.26121221e+00,  2.65848661e-01],\n",
       "       [ 1.17636425e+00,  1.38586284e+00,  1.97207239e+00],\n",
       "       [ 2.02303057e-01,  1.28782302e+00, -1.35361793e+00],\n",
       "       [-1.65332733e+00, -2.80814046e-01, -2.83613218e-01],\n",
       "       [ 1.28478361e+00, -4.76893680e-01,  1.24909623e+00],\n",
       "       [-6.07462735e-02, -7.71013130e-01,  1.07558195e+00],\n",
       "       [-2.99670950e-01,  9.93703570e-01, -1.06442747e+00],\n",
       "       [ 1.38249979e+00,  3.07424854e-01,  2.94767707e-01],\n",
       "       [ 4.63724256e-01,  9.93703570e-01,  7.57472446e-01],\n",
       "       [-3.13248147e-01, -6.72973313e-01, -1.49821316e+00],\n",
       "       [ 1.17431139e+00, -6.72973313e-01,  3.44962908e-02],\n",
       "       [-1.61776329e+00,  5.03504487e-01,  1.71180097e+00],\n",
       "       [-5.11049067e-02,  2.07214155e+00,  1.79091522e-01],\n",
       "       [ 1.02520291e+00, -1.94749093e+00, -7.46317957e-01],\n",
       "       [ 1.48045664e+00, -1.82774230e-01,  1.39369146e+00],\n",
       "       [-1.47753166e+00,  4.05464670e-01,  5.83958169e-01],\n",
       "       [-8.24693629e-01,  8.95663754e-01, -1.15118460e+00],\n",
       "       [-3.28552578e-01, -1.16317240e+00, -7.75237003e-01],\n",
       "       [-1.55331762e+00,  2.09385037e-01,  2.36929614e-01],\n",
       "       [ 1.40716243e+00,  7.97623937e-01, -3.12532264e-01],\n",
       "       [ 2.23893489e-01,  2.07214155e+00, -8.04156050e-01],\n",
       "       [-1.34211364e+00,  7.97623937e-01,  1.21253430e-01],\n",
       "       [-4.05202151e-01, -2.80814046e-01,  6.12877215e-01],\n",
       "       [-1.15213200e+00, -9.67092763e-01, -3.12532264e-01],\n",
       "       [-4.42295221e-01,  2.09385037e-01, -3.70370356e-01],\n",
       "       [ 5.83370644e-01,  2.07214155e+00,  2.11666762e+00],\n",
       "       [ 1.46857411e-02,  1.87606192e+00, -1.26686079e+00],\n",
       "       [-1.11516635e+00,  1.38586284e+00, -9.19832234e-01],\n",
       "       [ 5.97330097e-01,  8.95663754e-01,  1.24909623e+00],\n",
       "       [ 1.13673696e+00,  1.48390265e+00,  2.11666762e+00],\n",
       "       [ 3.02440189e-01, -2.80814046e-01, -1.23794174e+00],\n",
       "       [-4.37693982e-01,  1.97410174e+00,  9.02067677e-01],\n",
       "       [ 8.04258462e-01,  6.99584120e-01, -7.17398911e-01],\n",
       "       [-5.26773981e-01, -1.45729185e+00,  3.52605799e-01],\n",
       "       [ 1.88740018e-01,  7.97623937e-01, -1.35361793e+00],\n",
       "       [ 1.10600068e+00,  4.05464670e-01, -1.39017986e-01],\n",
       "       [ 3.36376101e-01, -9.67092763e-01,  4.10443892e-01],\n",
       "       [ 6.29255621e-01,  1.33054037e-02, -3.12532264e-01],\n",
       "       [ 1.42030074e+00, -1.16317240e+00,  4.10443892e-01],\n",
       "       [ 1.06215016e-01, -8.69052946e-01, -1.20902270e+00],\n",
       "       [-4.47122983e-01, -8.47344130e-02,  3.44962908e-02],\n",
       "       [ 9.97354792e-01, -1.55533166e+00, -4.28208449e-01],\n",
       "       [-3.29317091e-01,  9.93703570e-01, -1.00658937e+00],\n",
       "       [ 2.24431480e-01,  1.09174339e+00, -1.20902270e+00],\n",
       "       [ 3.64960417e-01,  1.33054037e-02, -1.39017986e-01],\n",
       "       [ 1.02837423e+00, -1.06513258e+00, -1.52713221e+00],\n",
       "       [ 1.81236458e-01,  7.97623937e-01, -1.20902270e+00],\n",
       "       [-7.52277196e-01,  9.93703570e-01,  2.05882953e+00],\n",
       "       [-5.19001425e-01, -1.16317240e+00, -1.52713221e+00],\n",
       "       [ 8.68151983e-01, -2.80814046e-01,  7.86391493e-01],\n",
       "       [ 9.32286185e-01,  1.11345220e-01, -3.12532264e-01],\n",
       "       [ 4.89519513e-01, -1.35925203e+00, -1.23794174e+00],\n",
       "       [ 1.86956153e-01, -5.74933496e-01, -1.49821316e+00],\n",
       "       [-2.90694994e-01,  7.97623937e-01,  5.26120077e-01],\n",
       "       [-4.90119798e-01, -2.80814046e-01, -3.41451310e-01],\n",
       "       [ 1.18291925e+00,  1.77802210e+00, -2.83613218e-01],\n",
       "       [-2.75390563e-01,  8.95663754e-01, -1.03550842e+00],\n",
       "       [ 3.72346468e-04,  2.09385037e-01,  6.34153371e-02],\n",
       "       [ 7.43238945e-01, -5.74933496e-01,  8.73148631e-01],\n",
       "       [-2.78774244e-01, -1.84945111e+00, -1.41145602e+00],\n",
       "       [-2.99614320e-01, -1.26121221e+00,  5.83958169e-01],\n",
       "       [ 2.75172535e-01, -2.80814046e-01,  5.26120077e-01],\n",
       "       [ 3.30982032e-01, -9.67092763e-01, -1.09334651e+00],\n",
       "       [-5.30709810e-01,  1.18978320e+00, -1.44037507e+00],\n",
       "       [-6.94528099e-01,  2.09385037e-01, -3.12532264e-01],\n",
       "       [ 4.58415133e-01,  1.18978320e+00, -7.46317957e-01],\n",
       "       [-2.48830792e-01, -2.80814046e-01,  6.34153371e-02],\n",
       "       [ 1.54471826e+00,  2.09385037e-01,  2.08774857e+00],\n",
       "       [-6.46873414e-01,  7.97623937e-01, -1.09334651e+00],\n",
       "       [-3.73276627e-01,  1.11345220e-01,  3.44962908e-02],\n",
       "       [ 1.07724647e+00, -1.75141130e+00,  1.21253430e-01],\n",
       "       [-1.26581801e+00, -8.69052946e-01,  1.50172476e-01],\n",
       "       [ 1.05691182e-01, -6.72973313e-01,  1.79091522e-01],\n",
       "       [ 5.96055908e-01,  8.95663754e-01, -1.29577984e+00],\n",
       "       [-1.53815477e+00,  2.09385037e-01, -2.54694171e-01],\n",
       "       [-5.63456479e-01, -3.78853863e-01,  1.22017719e+00],\n",
       "       [ 8.79941067e-02,  1.33054037e-02,  2.94767707e-01],\n",
       "       [ 1.32215984e+00,  4.05464670e-01,  1.50172476e-01],\n",
       "       [ 1.05937950e+00,  8.95663754e-01, -6.59560818e-01],\n",
       "       [-1.37357196e+00,  1.11345220e-01,  1.50172476e-01],\n",
       "       [ 6.98146797e-01, -1.84945111e+00, -1.29577984e+00],\n",
       "       [ 8.79081697e-01, -8.47344130e-02,  2.94767707e-01],\n",
       "       [-9.66680805e-01, -1.82774230e-01, -2.83613218e-01],\n",
       "       [ 5.50822183e-01,  3.07424854e-01, -5.14965587e-01],\n",
       "       [-1.34527080e+00, -1.82774230e-01,  1.59612479e+00],\n",
       "       [-1.00092819e+00,  9.93703570e-01, -1.18010365e+00],\n",
       "       [ 1.46450095e+00, -1.82774230e-01,  1.62504383e+00],\n",
       "       [-1.24360464e+00,  1.28782302e+00,  1.85639620e+00],\n",
       "       [-1.25345837e+00, -1.06513258e+00, -3.70370356e-01],\n",
       "       [ 6.02129544e-01,  1.33054037e-02,  3.44962908e-02],\n",
       "       [ 7.41620725e-02,  1.11345220e-01, -2.54694171e-01],\n",
       "       [ 1.16655299e+00, -1.55533166e+00, -1.23794174e+00],\n",
       "       [ 9.52588270e-01, -4.76893680e-01, -2.83613218e-01],\n",
       "       [-1.92270939e-01,  9.93703570e-01,  1.21253430e-01],\n",
       "       [ 8.15471329e-01,  1.97410174e+00, -1.35361793e+00],\n",
       "       [-6.34910191e-01,  1.48390265e+00,  6.34153371e-02],\n",
       "       [ 3.54833443e-02, -5.74933496e-01,  1.36477242e+00],\n",
       "       [ 1.22585943e+00,  1.58194247e+00,  5.57724463e-03],\n",
       "       [-1.35721987e+00, -7.71013130e-01,  2.94767707e-01],\n",
       "       [-1.72922655e+00,  1.97410174e+00,  7.28553400e-01],\n",
       "       [-1.21058898e+00, -1.16317240e+00, -5.14965587e-01],\n",
       "       [-2.26390900e-01,  6.99584120e-01,  2.65848661e-01],\n",
       "       [ 4.47990848e-02, -1.35925203e+00, -4.28208449e-01],\n",
       "       [ 4.22044104e-01,  2.09385037e-01,  1.50172476e-01],\n",
       "       [-2.25630634e-02, -4.76893680e-01, -1.20902270e+00],\n",
       "       [ 3.37522871e-01,  6.01544304e-01,  2.00099143e+00],\n",
       "       [-6.92262873e-01, -1.55533166e+00, -1.49821316e+00],\n",
       "       [-1.41387882e+00, -4.76893680e-01, -5.43884634e-01],\n",
       "       [-1.56154747e-01,  5.03504487e-01,  1.82747716e+00],\n",
       "       [ 3.69982139e-02, -1.35925203e+00, -1.09334651e+00],\n",
       "       [ 7.98817673e-02,  7.97623937e-01, -1.38253697e+00],\n",
       "       [-9.79809203e-02, -2.80814046e-01, -4.28208449e-01],\n",
       "       [-3.44947148e-01,  1.58194247e+00,  9.88824816e-01],\n",
       "       [-1.44502568e+00,  9.93703570e-01,  1.42261051e+00],\n",
       "       [-1.66319522e+00, -2.80814046e-01, -4.86046541e-01],\n",
       "       [ 4.38505216e-02, -8.47344130e-02,  2.14558666e+00],\n",
       "       [-1.36829116e+00, -1.45729185e+00, -1.10098940e-01],\n",
       "       [ 4.10052565e-01, -8.47344130e-02,  1.94315334e+00],\n",
       "       [-2.34970442e-01, -6.72973313e-01, -3.41451310e-01],\n",
       "       [-1.70915099e+00, -4.76893680e-01, -8.33075096e-01],\n",
       "       [-1.31242503e+00,  6.99584120e-01, -1.38253697e+00],\n",
       "       [ 1.41896992e+00, -7.71013130e-01, -1.58497030e+00],\n",
       "       [-9.52409883e-01, -1.84945111e+00, -1.46929411e+00],\n",
       "       [ 2.32388085e-01,  1.09174339e+00,  1.21253430e-01],\n",
       "       [-3.68406392e-01,  1.11345220e-01,  1.50936765e+00],\n",
       "       [-1.64353023e+00, -2.80814046e-01,  9.23343833e-02],\n",
       "       [-9.14042623e-01,  1.11345220e-01,  3.44962908e-02],\n",
       "       [-1.52432273e+00, -1.35925203e+00, -1.35361793e+00],\n",
       "       [-1.16297677e+00,  3.07424854e-01,  6.34153371e-02],\n",
       "       [ 1.34796925e+00, -8.69052946e-01,  3.81524845e-01],\n",
       "       [-9.48941256e-01,  1.58194247e+00, -1.26686079e+00],\n",
       "       [ 2.50014372e-01, -2.80814046e-01, -7.46317957e-01],\n",
       "       [-1.42288310e+00, -8.47344130e-02,  1.50172476e-01],\n",
       "       [-1.58566787e+00, -8.69052946e-01, -6.59560818e-01],\n",
       "       [-1.36561536e+00, -6.72973313e-01, -5.22608478e-02],\n",
       "       [ 1.35585507e+00,  4.05464670e-01, -4.57127495e-01],\n",
       "       [ 5.08462463e-01, -7.71013130e-01,  1.88531525e+00],\n",
       "       [ 1.45518521e+00,  1.38586284e+00,  1.27801528e+00],\n",
       "       [ 9.61337704e-01,  1.18978320e+00, -9.77670327e-01],\n",
       "       [-9.11144550e-02,  1.77802210e+00,  1.82747716e+00],\n",
       "       [ 1.24701098e+00, -8.69052946e-01, -2.54694171e-01],\n",
       "       [ 1.29184829e+00, -7.71013130e-01,  5.55039123e-01],\n",
       "       [-8.78581931e-02, -1.16317240e+00, -1.55605125e+00],\n",
       "       [ 1.54977254e+00, -4.76893680e-01, -1.12226556e+00],\n",
       "       [-2.88741237e-01,  3.07424854e-01,  6.34153371e-02],\n",
       "       [ 8.95278060e-01, -1.82774230e-01, -1.06442747e+00],\n",
       "       [-2.68439152e-01,  1.67998229e+00,  1.59612479e+00],\n",
       "       [-1.64985871e+00,  9.93703570e-01,  1.76963906e+00],\n",
       "       [ 1.66444959e+00,  3.07424854e-01,  3.44962908e-02],\n",
       "       [ 1.51313252e+00, -7.71013130e-01, -2.25775125e-01],\n",
       "       [ 6.97509702e-01, -8.47344130e-02,  6.34153371e-02],\n",
       "       [ 3.53931600e-01,  3.07424854e-01, -1.96856079e-01],\n",
       "       [-1.66224666e+00,  1.97410174e+00, -6.59560818e-01],\n",
       "       [-7.83678886e-01, -7.71013130e-01,  1.33585337e+00],\n",
       "       [ 2.50509890e-01, -1.75141130e+00, -6.01722726e-01],\n",
       "       [-1.56441723e+00, -8.47344130e-02,  1.21253430e-01],\n",
       "       [ 1.44129230e-01,  3.07424854e-01, -3.12532264e-01],\n",
       "       [-1.34865448e+00,  1.09174339e+00,  5.55039123e-01],\n",
       "       [ 1.63803140e+00, -9.67092763e-01,  2.65848661e-01],\n",
       "       [-1.14097576e+00,  1.48390265e+00,  3.52605799e-01],\n",
       "       [ 1.45415170e+00,  2.09385037e-01, -3.70370356e-01],\n",
       "       [-1.20778576e+00,  2.17018137e+00, -1.03550842e+00],\n",
       "       [ 1.14700126e+00, -2.80814046e-01,  1.10450100e+00],\n",
       "       [ 1.55559134e+00, -1.65337148e+00,  6.34153371e-02],\n",
       "       [ 1.24534037e+00,  1.33054037e-02,  3.44962908e-02],\n",
       "       [-1.44879161e+00,  1.11345220e-01,  1.04666291e+00],\n",
       "       [ 8.28977737e-01, -8.47344130e-02, -3.70370356e-01],\n",
       "       [-2.83375483e-01, -1.16317240e+00,  6.34153371e-02],\n",
       "       [-2.84946984e-01, -2.80814046e-01, -1.35361793e+00],\n",
       "       [ 1.08121061e+00,  1.58194247e+00,  1.10450100e+00],\n",
       "       [ 4.38551936e-01, -7.71013130e-01, -1.52713221e+00],\n",
       "       [-1.48690404e+00,  1.11345220e-01,  1.85639620e+00],\n",
       "       [ 7.46778360e-01, -8.69052946e-01, -7.75237003e-01],\n",
       "       [-1.25242486e+00, -4.76893680e-01, -7.75237003e-01],\n",
       "       [ 9.35188505e-01, -2.80814046e-01, -9.19832234e-01],\n",
       "       [-1.63609746e+00,  3.07424854e-01, -7.17398911e-01],\n",
       "       [-1.48352036e+00,  3.07424854e-01,  6.34153371e-02],\n",
       "       [ 6.19642570e-01,  1.11345220e-01,  1.85639620e+00],\n",
       "       [ 5.27688566e-01, -1.06513258e+00,  1.94315334e+00],\n",
       "       [-1.67527171e+00, -1.65337148e+00, -1.55605125e+00],\n",
       "       [ 7.56731196e-01, -1.16317240e+00, -1.09334651e+00],\n",
       "       [ 1.74187784e+00, -6.72973313e-01, -1.10098940e-01],\n",
       "       [-8.76312458e-01,  1.11345220e-01,  9.23343833e-02],\n",
       "       [-5.96231463e-01,  3.07424854e-01,  2.65848661e-01],\n",
       "       [ 1.08009216e+00,  8.95663754e-01, -5.72803680e-01],\n",
       "       [ 8.11917756e-01,  3.07424854e-01, -1.15118460e+00],\n",
       "       [ 5.99991737e-01, -8.47344130e-02,  6.70715308e-01],\n",
       "       [-1.13759208e+00,  2.17018137e+00, -6.88479865e-01],\n",
       "       [-1.37619113e+00, -1.26121221e+00, -1.38253697e+00],\n",
       "       [ 9.20790164e-01, -9.67092763e-01, -9.48751281e-01],\n",
       "       [ 1.68502067e+00,  1.33054037e-02, -4.28208449e-01],\n",
       "       [-1.27746977e+00, -1.82774230e-01, -4.57127495e-01],\n",
       "       [-1.63360996e-01, -1.75141130e+00, -9.77670327e-01],\n",
       "       [ 1.10166843e+00,  1.77802210e+00,  9.88824816e-01],\n",
       "       [-3.60269984e-02,  2.09385037e-01, -3.70370356e-01],\n",
       "       [ 1.55103257e+00,  4.05464670e-01,  1.10450100e+00],\n",
       "       [-1.36697449e+00, -1.75141130e+00, -1.35361793e+00],\n",
       "       [-1.48095782e+00,  2.09385037e-01, -1.39017986e-01],\n",
       "       [-8.58275599e-01,  8.95663754e-01, -1.44037507e+00],\n",
       "       [-1.60043431e+00, -1.94749093e+00,  4.68281984e-01],\n",
       "       [-1.12293890e+00, -2.80814046e-01,  2.65848661e-01],\n",
       "       [ 1.62981995e+00,  1.87606192e+00, -1.06442747e+00],\n",
       "       [-6.72286414e-01, -3.78853863e-01,  6.34153371e-02],\n",
       "       [ 4.58259399e-01,  1.09174339e+00, -8.90913188e-01],\n",
       "       [ 1.28869113e+00, -1.06513258e+00, -1.12226556e+00],\n",
       "       [-4.08883143e-01, -1.84945111e+00,  5.57724463e-03],\n",
       "       [ 7.83135232e-01,  1.11345220e-01,  2.65848661e-01],\n",
       "       [ 1.09062546e+00, -1.16317240e+00,  3.23686753e-01],\n",
       "       [ 9.22375822e-01, -1.26121221e+00,  2.94767707e-01],\n",
       "       [-8.47614881e-01, -9.67092763e-01,  4.39362938e-01],\n",
       "       [-9.39880354e-01,  1.67998229e+00, -8.90913188e-01],\n",
       "       [ 1.25706291e+00,  1.18978320e+00,  5.26120077e-01],\n",
       "       [ 1.03099339e+00,  1.09174339e+00,  5.26120077e-01],\n",
       "       [ 6.24300440e-01,  1.38586284e+00,  2.31910094e+00],\n",
       "       [ 5.03011764e-01, -2.80814046e-01, -1.39017986e-01],\n",
       "       [ 2.46361696e-01,  4.05464670e-01, -4.57127495e-01],\n",
       "       [-3.40345909e-01, -3.78853863e-01, -7.75237003e-01],\n",
       "       [ 4.47258897e-01, -8.47344130e-02, -5.14965587e-01],\n",
       "       [-1.02383528e+00,  9.93703570e-01, -1.15118460e+00],\n",
       "       [ 1.24303267e+00, -8.69052946e-01, -7.75237003e-01],\n",
       "       [-1.42070282e+00, -1.82774230e-01, -5.14965587e-01],\n",
       "       [ 1.19726096e+00, -1.06513258e+00, -4.57127495e-01],\n",
       "       [ 1.45653019e+00, -1.16317240e+00,  1.39369146e+00]])"
      ]
     },
     "execution_count": 33,
     "metadata": {},
     "output_type": "execute_result"
    }
   ],
   "source": [
    "x_train_tranformed"
   ]
  },
  {
   "cell_type": "code",
   "execution_count": 35,
   "id": "a5ff44fe",
   "metadata": {},
   "outputs": [],
   "source": [
    "x_train_tranformed = pd.DataFrame(x_train_tranformed, columns=x_train.columns)\n",
    "x_test_transformed = pd.DataFrame(x_test_transformed, columns=x_test.columns)"
   ]
  },
  {
   "cell_type": "code",
   "execution_count": 36,
   "id": "4efd5c8d",
   "metadata": {},
   "outputs": [
    {
     "data": {
      "text/html": [
       "<div>\n",
       "<style scoped>\n",
       "    .dataframe tbody tr th:only-of-type {\n",
       "        vertical-align: middle;\n",
       "    }\n",
       "\n",
       "    .dataframe tbody tr th {\n",
       "        vertical-align: top;\n",
       "    }\n",
       "\n",
       "    .dataframe thead th {\n",
       "        text-align: right;\n",
       "    }\n",
       "</style>\n",
       "<table border=\"1\" class=\"dataframe\">\n",
       "  <thead>\n",
       "    <tr style=\"text-align: right;\">\n",
       "      <th></th>\n",
       "      <th>User ID</th>\n",
       "      <th>Age</th>\n",
       "      <th>EstimatedSalary</th>\n",
       "    </tr>\n",
       "  </thead>\n",
       "  <tbody>\n",
       "    <tr>\n",
       "      <th>0</th>\n",
       "      <td>1.671189</td>\n",
       "      <td>-1.163172</td>\n",
       "      <td>-1.584970</td>\n",
       "    </tr>\n",
       "    <tr>\n",
       "      <th>1</th>\n",
       "      <td>-1.388395</td>\n",
       "      <td>2.170181</td>\n",
       "      <td>0.930987</td>\n",
       "    </tr>\n",
       "    <tr>\n",
       "      <th>2</th>\n",
       "      <td>-1.024656</td>\n",
       "      <td>0.013305</td>\n",
       "      <td>1.220177</td>\n",
       "    </tr>\n",
       "    <tr>\n",
       "      <th>3</th>\n",
       "      <td>1.717767</td>\n",
       "      <td>0.209385</td>\n",
       "      <td>1.075582</td>\n",
       "    </tr>\n",
       "    <tr>\n",
       "      <th>4</th>\n",
       "      <td>1.535162</td>\n",
       "      <td>0.405465</td>\n",
       "      <td>-0.486047</td>\n",
       "    </tr>\n",
       "    <tr>\n",
       "      <th>...</th>\n",
       "      <td>...</td>\n",
       "      <td>...</td>\n",
       "      <td>...</td>\n",
       "    </tr>\n",
       "    <tr>\n",
       "      <th>275</th>\n",
       "      <td>-1.023835</td>\n",
       "      <td>0.993704</td>\n",
       "      <td>-1.151185</td>\n",
       "    </tr>\n",
       "    <tr>\n",
       "      <th>276</th>\n",
       "      <td>1.243033</td>\n",
       "      <td>-0.869053</td>\n",
       "      <td>-0.775237</td>\n",
       "    </tr>\n",
       "    <tr>\n",
       "      <th>277</th>\n",
       "      <td>-1.420703</td>\n",
       "      <td>-0.182774</td>\n",
       "      <td>-0.514966</td>\n",
       "    </tr>\n",
       "    <tr>\n",
       "      <th>278</th>\n",
       "      <td>1.197261</td>\n",
       "      <td>-1.065133</td>\n",
       "      <td>-0.457127</td>\n",
       "    </tr>\n",
       "    <tr>\n",
       "      <th>279</th>\n",
       "      <td>1.456530</td>\n",
       "      <td>-1.163172</td>\n",
       "      <td>1.393691</td>\n",
       "    </tr>\n",
       "  </tbody>\n",
       "</table>\n",
       "<p>280 rows × 3 columns</p>\n",
       "</div>"
      ],
      "text/plain": [
       "      User ID       Age  EstimatedSalary\n",
       "0    1.671189 -1.163172        -1.584970\n",
       "1   -1.388395  2.170181         0.930987\n",
       "2   -1.024656  0.013305         1.220177\n",
       "3    1.717767  0.209385         1.075582\n",
       "4    1.535162  0.405465        -0.486047\n",
       "..        ...       ...              ...\n",
       "275 -1.023835  0.993704        -1.151185\n",
       "276  1.243033 -0.869053        -0.775237\n",
       "277 -1.420703 -0.182774        -0.514966\n",
       "278  1.197261 -1.065133        -0.457127\n",
       "279  1.456530 -1.163172         1.393691\n",
       "\n",
       "[280 rows x 3 columns]"
      ]
     },
     "execution_count": 36,
     "metadata": {},
     "output_type": "execute_result"
    }
   ],
   "source": [
    "x_train_tranformed"
   ]
  },
  {
   "cell_type": "code",
   "execution_count": 37,
   "id": "e246cecf",
   "metadata": {},
   "outputs": [
    {
     "data": {
      "text/html": [
       "<div>\n",
       "<style scoped>\n",
       "    .dataframe tbody tr th:only-of-type {\n",
       "        vertical-align: middle;\n",
       "    }\n",
       "\n",
       "    .dataframe tbody tr th {\n",
       "        vertical-align: top;\n",
       "    }\n",
       "\n",
       "    .dataframe thead th {\n",
       "        text-align: right;\n",
       "    }\n",
       "</style>\n",
       "<table border=\"1\" class=\"dataframe\">\n",
       "  <thead>\n",
       "    <tr style=\"text-align: right;\">\n",
       "      <th></th>\n",
       "      <th>User ID</th>\n",
       "      <th>Age</th>\n",
       "      <th>EstimatedSalary</th>\n",
       "    </tr>\n",
       "  </thead>\n",
       "  <tbody>\n",
       "    <tr>\n",
       "      <th>0</th>\n",
       "      <td>0.479637</td>\n",
       "      <td>-0.771013</td>\n",
       "      <td>0.497201</td>\n",
       "    </tr>\n",
       "    <tr>\n",
       "      <th>1</th>\n",
       "      <td>-0.557553</td>\n",
       "      <td>0.013305</td>\n",
       "      <td>-0.572804</td>\n",
       "    </tr>\n",
       "    <tr>\n",
       "      <th>2</th>\n",
       "      <td>1.204283</td>\n",
       "      <td>-0.280814</td>\n",
       "      <td>0.150172</td>\n",
       "    </tr>\n",
       "    <tr>\n",
       "      <th>3</th>\n",
       "      <td>0.660686</td>\n",
       "      <td>-0.771013</td>\n",
       "      <td>0.265849</td>\n",
       "    </tr>\n",
       "    <tr>\n",
       "      <th>4</th>\n",
       "      <td>-0.761381</td>\n",
       "      <td>-0.280814</td>\n",
       "      <td>-0.572804</td>\n",
       "    </tr>\n",
       "    <tr>\n",
       "      <th>...</th>\n",
       "      <td>...</td>\n",
       "      <td>...</td>\n",
       "      <td>...</td>\n",
       "    </tr>\n",
       "    <tr>\n",
       "      <th>115</th>\n",
       "      <td>-0.789413</td>\n",
       "      <td>1.091743</td>\n",
       "      <td>-0.139018</td>\n",
       "    </tr>\n",
       "    <tr>\n",
       "      <th>116</th>\n",
       "      <td>1.747824</td>\n",
       "      <td>0.699584</td>\n",
       "      <td>1.769639</td>\n",
       "    </tr>\n",
       "    <tr>\n",
       "      <th>117</th>\n",
       "      <td>1.444524</td>\n",
       "      <td>-0.672973</td>\n",
       "      <td>0.555039</td>\n",
       "    </tr>\n",
       "    <tr>\n",
       "      <th>118</th>\n",
       "      <td>-1.046318</td>\n",
       "      <td>0.797624</td>\n",
       "      <td>0.352606</td>\n",
       "    </tr>\n",
       "    <tr>\n",
       "      <th>119</th>\n",
       "      <td>-0.878379</td>\n",
       "      <td>0.895664</td>\n",
       "      <td>-0.543885</td>\n",
       "    </tr>\n",
       "  </tbody>\n",
       "</table>\n",
       "<p>120 rows × 3 columns</p>\n",
       "</div>"
      ],
      "text/plain": [
       "      User ID       Age  EstimatedSalary\n",
       "0    0.479637 -0.771013         0.497201\n",
       "1   -0.557553  0.013305        -0.572804\n",
       "2    1.204283 -0.280814         0.150172\n",
       "3    0.660686 -0.771013         0.265849\n",
       "4   -0.761381 -0.280814        -0.572804\n",
       "..        ...       ...              ...\n",
       "115 -0.789413  1.091743        -0.139018\n",
       "116  1.747824  0.699584         1.769639\n",
       "117  1.444524 -0.672973         0.555039\n",
       "118 -1.046318  0.797624         0.352606\n",
       "119 -0.878379  0.895664        -0.543885\n",
       "\n",
       "[120 rows x 3 columns]"
      ]
     },
     "execution_count": 37,
     "metadata": {},
     "output_type": "execute_result"
    }
   ],
   "source": [
    "x_test_transformed"
   ]
  },
  {
   "cell_type": "code",
   "execution_count": 39,
   "id": "5595c3c3",
   "metadata": {},
   "outputs": [
    {
     "data": {
      "text/html": [
       "<div>\n",
       "<style scoped>\n",
       "    .dataframe tbody tr th:only-of-type {\n",
       "        vertical-align: middle;\n",
       "    }\n",
       "\n",
       "    .dataframe tbody tr th {\n",
       "        vertical-align: top;\n",
       "    }\n",
       "\n",
       "    .dataframe thead th {\n",
       "        text-align: right;\n",
       "    }\n",
       "</style>\n",
       "<table border=\"1\" class=\"dataframe\">\n",
       "  <thead>\n",
       "    <tr style=\"text-align: right;\">\n",
       "      <th></th>\n",
       "      <th>User ID</th>\n",
       "      <th>Age</th>\n",
       "      <th>EstimatedSalary</th>\n",
       "    </tr>\n",
       "  </thead>\n",
       "  <tbody>\n",
       "    <tr>\n",
       "      <th>count</th>\n",
       "      <td>280.0</td>\n",
       "      <td>280.0</td>\n",
       "      <td>280.0</td>\n",
       "    </tr>\n",
       "    <tr>\n",
       "      <th>mean</th>\n",
       "      <td>15691781.7</td>\n",
       "      <td>37.9</td>\n",
       "      <td>69807.1</td>\n",
       "    </tr>\n",
       "    <tr>\n",
       "      <th>std</th>\n",
       "      <td>70759.6</td>\n",
       "      <td>10.2</td>\n",
       "      <td>34641.2</td>\n",
       "    </tr>\n",
       "    <tr>\n",
       "      <th>min</th>\n",
       "      <td>15569641.0</td>\n",
       "      <td>18.0</td>\n",
       "      <td>15000.0</td>\n",
       "    </tr>\n",
       "    <tr>\n",
       "      <th>25%</th>\n",
       "      <td>15628197.2</td>\n",
       "      <td>30.0</td>\n",
       "      <td>43000.0</td>\n",
       "    </tr>\n",
       "    <tr>\n",
       "      <th>50%</th>\n",
       "      <td>15694424.0</td>\n",
       "      <td>37.0</td>\n",
       "      <td>70500.0</td>\n",
       "    </tr>\n",
       "    <tr>\n",
       "      <th>75%</th>\n",
       "      <td>15751110.8</td>\n",
       "      <td>46.0</td>\n",
       "      <td>88000.0</td>\n",
       "    </tr>\n",
       "    <tr>\n",
       "      <th>max</th>\n",
       "      <td>15814816.0</td>\n",
       "      <td>60.0</td>\n",
       "      <td>150000.0</td>\n",
       "    </tr>\n",
       "  </tbody>\n",
       "</table>\n",
       "</div>"
      ],
      "text/plain": [
       "          User ID    Age  EstimatedSalary\n",
       "count       280.0  280.0            280.0\n",
       "mean   15691781.7   37.9          69807.1\n",
       "std       70759.6   10.2          34641.2\n",
       "min    15569641.0   18.0          15000.0\n",
       "25%    15628197.2   30.0          43000.0\n",
       "50%    15694424.0   37.0          70500.0\n",
       "75%    15751110.8   46.0          88000.0\n",
       "max    15814816.0   60.0         150000.0"
      ]
     },
     "execution_count": 39,
     "metadata": {},
     "output_type": "execute_result"
    }
   ],
   "source": [
    "np.round(x_train.describe(), 1)"
   ]
  },
  {
   "cell_type": "code",
   "execution_count": 42,
   "id": "824a2454",
   "metadata": {},
   "outputs": [
    {
     "data": {
      "text/html": [
       "<div>\n",
       "<style scoped>\n",
       "    .dataframe tbody tr th:only-of-type {\n",
       "        vertical-align: middle;\n",
       "    }\n",
       "\n",
       "    .dataframe tbody tr th {\n",
       "        vertical-align: top;\n",
       "    }\n",
       "\n",
       "    .dataframe thead th {\n",
       "        text-align: right;\n",
       "    }\n",
       "</style>\n",
       "<table border=\"1\" class=\"dataframe\">\n",
       "  <thead>\n",
       "    <tr style=\"text-align: right;\">\n",
       "      <th></th>\n",
       "      <th>User ID</th>\n",
       "      <th>Age</th>\n",
       "      <th>EstimatedSalary</th>\n",
       "    </tr>\n",
       "  </thead>\n",
       "  <tbody>\n",
       "    <tr>\n",
       "      <th>count</th>\n",
       "      <td>280.0</td>\n",
       "      <td>280.0</td>\n",
       "      <td>280.0</td>\n",
       "    </tr>\n",
       "    <tr>\n",
       "      <th>mean</th>\n",
       "      <td>0.0</td>\n",
       "      <td>0.0</td>\n",
       "      <td>0.0</td>\n",
       "    </tr>\n",
       "    <tr>\n",
       "      <th>std</th>\n",
       "      <td>1.0</td>\n",
       "      <td>1.0</td>\n",
       "      <td>1.0</td>\n",
       "    </tr>\n",
       "    <tr>\n",
       "      <th>min</th>\n",
       "      <td>-1.7</td>\n",
       "      <td>-1.9</td>\n",
       "      <td>-1.6</td>\n",
       "    </tr>\n",
       "    <tr>\n",
       "      <th>25%</th>\n",
       "      <td>-0.9</td>\n",
       "      <td>-0.8</td>\n",
       "      <td>-0.8</td>\n",
       "    </tr>\n",
       "    <tr>\n",
       "      <th>50%</th>\n",
       "      <td>0.0</td>\n",
       "      <td>-0.1</td>\n",
       "      <td>0.0</td>\n",
       "    </tr>\n",
       "    <tr>\n",
       "      <th>75%</th>\n",
       "      <td>0.8</td>\n",
       "      <td>0.8</td>\n",
       "      <td>0.5</td>\n",
       "    </tr>\n",
       "    <tr>\n",
       "      <th>max</th>\n",
       "      <td>1.7</td>\n",
       "      <td>2.2</td>\n",
       "      <td>2.3</td>\n",
       "    </tr>\n",
       "  </tbody>\n",
       "</table>\n",
       "</div>"
      ],
      "text/plain": [
       "       User ID    Age  EstimatedSalary\n",
       "count    280.0  280.0            280.0\n",
       "mean       0.0    0.0              0.0\n",
       "std        1.0    1.0              1.0\n",
       "min       -1.7   -1.9             -1.6\n",
       "25%       -0.9   -0.8             -0.8\n",
       "50%        0.0   -0.1              0.0\n",
       "75%        0.8    0.8              0.5\n",
       "max        1.7    2.2              2.3"
      ]
     },
     "execution_count": 42,
     "metadata": {},
     "output_type": "execute_result"
    }
   ],
   "source": [
    "np.round(x_train_tranformed.describe(), 1)"
   ]
  },
  {
   "cell_type": "markdown",
   "id": "34a606f0",
   "metadata": {},
   "source": [
    "# Effect of Scaling"
   ]
  },
  {
   "cell_type": "code",
   "execution_count": 44,
   "id": "0cb05b5c",
   "metadata": {},
   "outputs": [
    {
     "data": {
      "image/png": "[encoded data removed]",
      "text/plain": [
       "<Figure size 1200x500 with 2 Axes>"
      ]
     },
     "metadata": {},
     "output_type": "display_data"
    }
   ],
   "source": [
    "fig, (ax1, ax2) = plt.subplots(ncols=2, figsize=(12, 5))\n",
    "\n",
    "ax1.scatter(x_train['Age'], x_train['EstimatedSalary'])\n",
    "ax1.set_title(\"Before Scaling\")\n",
    "ax2.scatter(x_train_tranformed['Age'], x_train_tranformed['EstimatedSalary'],color='red')\n",
    "ax2.set_title(\"After Scaling\")\n",
    "plt.show()"
   ]
  },
  {
   "cell_type": "code",
   "execution_count": 46,
   "id": "762e2f89",
   "metadata": {},
   "outputs": [
    {
     "data": {
      "image/png": "[encoded data removed]",
      "text/plain": [
       "<Figure size 1200x500 with 2 Axes>"
      ]
     },
     "metadata": {},
     "output_type": "display_data"
    }
   ],
   "source": [
    "fig, (ax1, ax2) = plt.subplots(ncols=2, figsize=(12, 5))\n",
    "\n",
    "# before scaling\n",
    "ax1.set_title('Before Scaling')\n",
    "sns.kdeplot(x_train['Age'], ax=ax1)\n",
    "sns.kdeplot(x_train['EstimatedSalary'], ax=ax1)\n",
    "\n",
    "# after scaling\n",
    "ax2.set_title('After Standard Scaling')\n",
    "sns.kdeplot(x_train_tranformed['Age'], ax=ax2)\n",
    "sns.kdeplot(x_train_tranformed['EstimatedSalary'], ax=ax2)\n",
    "plt.show()"
   ]
  },
  {
   "cell_type": "markdown",
   "id": "06816834",
   "metadata": {},
   "source": [
    "## prediction model required"
   ]
  },
  {
   "cell_type": "code",
   "execution_count": null,
   "id": "d2645696",
   "metadata": {},
   "outputs": [],
   "source": []
  }
 ],
 "metadata": {
  "kernelspec": {
   "display_name": "Python 3 (ipykernel)",
   "language": "python",
   "name": "python3"
  },
  "language_info": {
   "codemirror_mode": {
    "name": "ipython",
    "version": 3
   },
   "file_extension": ".py",
   "mimetype": "text/x-python",
   "name": "python",
   "nbconvert_exporter": "python",
   "pygments_lexer": "ipython3",
   "version": "3.11.5"
  }
 },
 "nbformat": 4,
 "nbformat_minor": 5
}
